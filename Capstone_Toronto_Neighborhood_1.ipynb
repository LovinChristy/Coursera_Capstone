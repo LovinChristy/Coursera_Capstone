{
 "cells": [
  {
   "cell_type": "code",
   "execution_count": 41,
   "metadata": {},
   "outputs": [],
   "source": [
    "# Clustering Toronto Neighbourhoods into 4 distincs clusters (Central, Down-Town, East & West Toronto) and looking at the venues in Central Toronoto using Foursqaure APIs\""
   ]
  },
  {
   "cell_type": "code",
   "execution_count": 42,
   "metadata": {},
   "outputs": [],
   "source": [
    "import requests # import & load  necessary libraries and packages\n",
    "import lxml.html as lh\n",
    "import pandas as pd"
   ]
  },
  {
   "cell_type": "code",
   "execution_count": 43,
   "metadata": {},
   "outputs": [],
   "source": [
    "url='https://en.wikipedia.org/wiki/List_of_postal_codes_of_Canada:_M'  # wikipedia URL tnat has the Toronto Postcodes and details"
   ]
  },
  {
   "cell_type": "code",
   "execution_count": 44,
   "metadata": {},
   "outputs": [
    {
     "name": "stdout",
     "output_type": "stream",
     "text": [
      "BeautifulSoap imported\n"
     ]
    }
   ],
   "source": [
    "from bs4 import BeautifulSoup  # import Beautifulsoup # Get BeautifulSoup package\n",
    "print('BeautifulSoap imported')"
   ]
  },
  {
   "cell_type": "code",
   "execution_count": 45,
   "metadata": {},
   "outputs": [],
   "source": [
    "# Using BS to scrap the wikipedia HTML and generate a csv file with the postal codes etc\n",
    "import requests  # import requests library"
   ]
  },
  {
   "cell_type": "code",
   "execution_count": 46,
   "metadata": {},
   "outputs": [],
   "source": [
    "website_URL=requests.get('https://en.wikipedia.org/wiki/List_of_postal_codes_of_Canada:_M').text"
   ]
  },
  {
   "cell_type": "code",
   "execution_count": 47,
   "metadata": {},
   "outputs": [],
   "source": [
    "Toronto_soup = BeautifulSoup(website_URL,'lxml')  # Align it to Toronto"
   ]
  },
  {
   "cell_type": "code",
   "execution_count": 48,
   "metadata": {},
   "outputs": [],
   "source": [
    "My_table = Toronto_soup.find('table',class_='wikitable sortable') # obtain wikitable sortable"
   ]
  },
  {
   "cell_type": "code",
   "execution_count": 49,
   "metadata": {},
   "outputs": [],
   "source": [
    "#Create a handle, page, to handle the contents of the website\n",
    "page = requests.get(url)"
   ]
  },
  {
   "cell_type": "code",
   "execution_count": 50,
   "metadata": {},
   "outputs": [],
   "source": [
    "#Store the contents of the website under doc\n",
    "doc = lh.fromstring(page.content)"
   ]
  },
  {
   "cell_type": "code",
   "execution_count": 51,
   "metadata": {},
   "outputs": [],
   "source": [
    "#Parse data that are stored between <tr>..</tr> of HTML\n",
    "tr_elements = doc.xpath('//tr')"
   ]
  },
  {
   "cell_type": "code",
   "execution_count": 52,
   "metadata": {},
   "outputs": [
    {
     "data": {
      "text/plain": [
       "[3, 3, 3, 3, 3, 3, 3, 3, 3, 3, 3, 3]"
      ]
     },
     "execution_count": 52,
     "metadata": {},
     "output_type": "execute_result"
    }
   ],
   "source": [
    "#Check the length of the first 12 rows\n",
    "    [len(T) for T in tr_elements[:12]]    "
   ]
  },
  {
   "cell_type": "code",
   "execution_count": 53,
   "metadata": {},
   "outputs": [
    {
     "name": "stdout",
     "output_type": "stream",
     "text": [
      "1:Postcode\n",
      "2:Borough\n",
      "3:Neighbourhood\n"
     ]
    }
   ],
   "source": [
    "tr_elements = doc.xpath('//tr')\n",
    "#Create empty list\n",
    "Dict=[]\n",
    "col=[]\n",
    "i=0\n",
    "#For each row, store each first element (header) and an empty list\n",
    "for t in tr_elements[0]:\n",
    "    i+=1\n",
    "    name=t.text_content().strip(\"\\n\")\n",
    "    print ('%d:%s'%(i,name))\n",
    "    col.append((name,[]))"
   ]
  },
  {
   "cell_type": "code",
   "execution_count": 54,
   "metadata": {},
   "outputs": [],
   "source": [
    "#Since out first row is the header, data is stored on the second row onwards\n",
    "for j in range(1,len(tr_elements)):\n",
    "    #T is our j'th row\n",
    "    T=tr_elements[j]\n",
    "    \n",
    "    #If row is not of size 10, the //tr data is not from our table \n",
    "    if len(T)!=3:\n",
    "        break\n",
    "    \n",
    "    #i is the index of our column\n",
    "    i=0\n",
    "    \n",
    "    #Iterate through each element of the row\n",
    "    for t in T.iterchildren():\n",
    "        data=t.text_content() \n",
    "        #Check if row is empty\n",
    "        if i>0:\n",
    "            try:\n",
    "                data=int(data)\n",
    "            except:\n",
    "                pass\n",
    "        #Append the data to the empty list of the i'th column\n",
    "        col[i][1].append(data)\n",
    "        #Increment i for the next column\n",
    "        i+=1"
   ]
  },
  {
   "cell_type": "code",
   "execution_count": 55,
   "metadata": {},
   "outputs": [
    {
     "data": {
      "text/plain": [
       "[288, 288, 288]"
      ]
     },
     "execution_count": 55,
     "metadata": {},
     "output_type": "execute_result"
    }
   ],
   "source": [
    "[len(C) for (title,C) in col]"
   ]
  },
  {
   "cell_type": "code",
   "execution_count": 56,
   "metadata": {},
   "outputs": [],
   "source": [
    "Dict={title:column for (title,column) in col}   # Dictionary with Postcodes, Borough and Neighbourhoods\n",
    "df=pd.DataFrame(Dict)  # Creating the pandas Dataframe using the dictionary values"
   ]
  },
  {
   "cell_type": "code",
   "execution_count": 57,
   "metadata": {},
   "outputs": [],
   "source": [
    "#df"
   ]
  },
  {
   "cell_type": "code",
   "execution_count": 58,
   "metadata": {},
   "outputs": [],
   "source": [
    "df_Borough=df[df.Borough != 'Not assigned']   # get rid of \"Not assigned\" boroughs"
   ]
  },
  {
   "cell_type": "code",
   "execution_count": 59,
   "metadata": {},
   "outputs": [],
   "source": [
    "#df_Borough"
   ]
  },
  {
   "cell_type": "code",
   "execution_count": 60,
   "metadata": {},
   "outputs": [],
   "source": [
    "import numpy as np\n",
    "df_Borough.columns = ['Postcode', 'Borough', 'Neighbourhood']"
   ]
  },
  {
   "cell_type": "code",
   "execution_count": 61,
   "metadata": {},
   "outputs": [],
   "source": [
    "##df_Borough"
   ]
  },
  {
   "cell_type": "code",
   "execution_count": 62,
   "metadata": {},
   "outputs": [
    {
     "name": "stderr",
     "output_type": "stream",
     "text": [
      "/home/jupyterlab/conda/lib/python3.6/site-packages/ipykernel_launcher.py:1: SettingWithCopyWarning: \n",
      "A value is trying to be set on a copy of a slice from a DataFrame.\n",
      "Try using .loc[row_indexer,col_indexer] = value instead\n",
      "\n",
      "See the caveats in the documentation: http://pandas.pydata.org/pandas-docs/stable/indexing.html#indexing-view-versus-copy\n",
      "  \"\"\"Entry point for launching an IPython kernel.\n"
     ]
    }
   ],
   "source": [
    "df_Borough['Neighbourhood'] = df_Borough['Neighbourhood'].astype(str).str[:-1].astype(str)  # get rid of the eol marker from the neighbourhood values\n",
    "#df_Borough['Neighbourhood']=df_Borough['Neighbourhood'].replace(to_replace=[r\"\\\\t|\\\\n|\\\\r\", \"\\t|\\n|\\r\"], value=[\"\",\"\"], regex=True) "
   ]
  },
  {
   "cell_type": "code",
   "execution_count": 63,
   "metadata": {},
   "outputs": [],
   "source": [
    "#df_Borough"
   ]
  },
  {
   "cell_type": "code",
   "execution_count": 64,
   "metadata": {},
   "outputs": [
    {
     "name": "stderr",
     "output_type": "stream",
     "text": [
      "/home/jupyterlab/conda/lib/python3.6/site-packages/ipykernel_launcher.py:3: SettingWithCopyWarning: \n",
      "A value is trying to be set on a copy of a slice from a DataFrame\n",
      "\n",
      "See the caveats in the documentation: http://pandas.pydata.org/pandas-docs/stable/indexing.html#indexing-view-versus-copy\n",
      "  This is separate from the ipykernel package so we can avoid doing imports until\n"
     ]
    }
   ],
   "source": [
    "mask = df_Borough.Neighbourhood == 'Not assigned'  # assign Borough value to those neighbourhoods with \"Not assigned\"\n",
    "column_name = 'Neighbourhood'\n",
    "df_Borough.loc[mask, column_name] = df_Borough.Borough"
   ]
  },
  {
   "cell_type": "code",
   "execution_count": 65,
   "metadata": {},
   "outputs": [],
   "source": [
    "#df_Borough"
   ]
  },
  {
   "cell_type": "code",
   "execution_count": 66,
   "metadata": {},
   "outputs": [],
   "source": [
    "\n",
    "df_new=df_Borough.groupby('Postcode', sort=False)['Neighbourhood'].apply(','.join)  # group neighbourhoods by Postcode"
   ]
  },
  {
   "cell_type": "code",
   "execution_count": 67,
   "metadata": {},
   "outputs": [],
   "source": [
    "#df_new"
   ]
  },
  {
   "cell_type": "code",
   "execution_count": 68,
   "metadata": {},
   "outputs": [],
   "source": [
    "\n",
    "df_new_FINAL=pd.DataFrame({'Postcode':df_new.index, 'df_new':df_new.values})\n",
    "df_new_F=df_new_FINAL.rename(columns={ df_new_FINAL.columns[1]: \"Neighbourhood\" })\n",
    "df_N=df_new_F['Neighbourhood'].tolist() # create a neighbourhood list"
   ]
  },
  {
   "cell_type": "code",
   "execution_count": 69,
   "metadata": {},
   "outputs": [],
   "source": [
    "#df_new"
   ]
  },
  {
   "cell_type": "code",
   "execution_count": 70,
   "metadata": {},
   "outputs": [],
   "source": [
    "\n",
    "df_Borough_BONLY=df_Borough['Borough'] # create a Borough list\n",
    "df_Borough_PONLY=df_Borough['Postcode'] # create a postcode list"
   ]
  },
  {
   "cell_type": "code",
   "execution_count": 71,
   "metadata": {},
   "outputs": [],
   "source": [
    "#df_Borough_BONLY"
   ]
  },
  {
   "cell_type": "code",
   "execution_count": 72,
   "metadata": {},
   "outputs": [],
   "source": [
    "#df_Borough_PONLY"
   ]
  },
  {
   "cell_type": "code",
   "execution_count": 73,
   "metadata": {},
   "outputs": [],
   "source": [
    "df_Borough_BandP=pd.concat([df_Borough_PONLY, df_Borough_BONLY], axis=1)"
   ]
  },
  {
   "cell_type": "code",
   "execution_count": 74,
   "metadata": {},
   "outputs": [],
   "source": [
    "#df_Borough_BandP"
   ]
  },
  {
   "cell_type": "code",
   "execution_count": 75,
   "metadata": {},
   "outputs": [],
   "source": [
    "df_Borough_BandP_new = df_Borough_BandP.drop_duplicates(subset=['Postcode','Borough'])  # drop duplicates"
   ]
  },
  {
   "cell_type": "code",
   "execution_count": 76,
   "metadata": {},
   "outputs": [],
   "source": [
    "#df_P\n",
    "#df_B"
   ]
  },
  {
   "cell_type": "code",
   "execution_count": 77,
   "metadata": {},
   "outputs": [],
   "source": [
    "#df_Borough_BandP_new"
   ]
  },
  {
   "cell_type": "code",
   "execution_count": 78,
   "metadata": {},
   "outputs": [],
   "source": [
    "df_P=df_Borough_BandP_new['Postcode'].tolist() # refined lists\n",
    "df_B=df_Borough_BandP_new['Borough'].tolist() # refined lists"
   ]
  },
  {
   "cell_type": "code",
   "execution_count": null,
   "metadata": {},
   "outputs": [],
   "source": []
  },
  {
   "cell_type": "code",
   "execution_count": 79,
   "metadata": {},
   "outputs": [],
   "source": [
    "Toronto_DICT= {'Postcode':df_P,'Borough':df_B, 'Neighbourhood':df_N} # Create a dictionary with the 3 refined lists\n",
    "Toronto_df=pd.DataFrame(Toronto_DICT) # create the dataframe"
   ]
  },
  {
   "cell_type": "code",
   "execution_count": 80,
   "metadata": {},
   "outputs": [
    {
     "data": {
      "text/html": [
       "<div>\n",
       "<style scoped>\n",
       "    .dataframe tbody tr th:only-of-type {\n",
       "        vertical-align: middle;\n",
       "    }\n",
       "\n",
       "    .dataframe tbody tr th {\n",
       "        vertical-align: top;\n",
       "    }\n",
       "\n",
       "    .dataframe thead th {\n",
       "        text-align: right;\n",
       "    }\n",
       "</style>\n",
       "<table border=\"1\" class=\"dataframe\">\n",
       "  <thead>\n",
       "    <tr style=\"text-align: right;\">\n",
       "      <th></th>\n",
       "      <th>Postcode</th>\n",
       "      <th>Borough</th>\n",
       "      <th>Neighbourhood</th>\n",
       "    </tr>\n",
       "  </thead>\n",
       "  <tbody>\n",
       "    <tr>\n",
       "      <th>0</th>\n",
       "      <td>M3A</td>\n",
       "      <td>North York</td>\n",
       "      <td>Parkwoods</td>\n",
       "    </tr>\n",
       "    <tr>\n",
       "      <th>1</th>\n",
       "      <td>M4A</td>\n",
       "      <td>North York</td>\n",
       "      <td>Victoria Village</td>\n",
       "    </tr>\n",
       "    <tr>\n",
       "      <th>2</th>\n",
       "      <td>M5A</td>\n",
       "      <td>Downtown Toronto</td>\n",
       "      <td>Harbourfront,Regent Park</td>\n",
       "    </tr>\n",
       "    <tr>\n",
       "      <th>3</th>\n",
       "      <td>M6A</td>\n",
       "      <td>North York</td>\n",
       "      <td>Lawrence Heights,Lawrence Manor</td>\n",
       "    </tr>\n",
       "    <tr>\n",
       "      <th>4</th>\n",
       "      <td>M7A</td>\n",
       "      <td>Queen's Park</td>\n",
       "      <td>Queen's Park</td>\n",
       "    </tr>\n",
       "    <tr>\n",
       "      <th>5</th>\n",
       "      <td>M9A</td>\n",
       "      <td>Etobicoke</td>\n",
       "      <td>Islington Avenue</td>\n",
       "    </tr>\n",
       "    <tr>\n",
       "      <th>6</th>\n",
       "      <td>M1B</td>\n",
       "      <td>Scarborough</td>\n",
       "      <td>Rouge,Malvern</td>\n",
       "    </tr>\n",
       "    <tr>\n",
       "      <th>7</th>\n",
       "      <td>M3B</td>\n",
       "      <td>North York</td>\n",
       "      <td>Don Mills North</td>\n",
       "    </tr>\n",
       "    <tr>\n",
       "      <th>8</th>\n",
       "      <td>M4B</td>\n",
       "      <td>East York</td>\n",
       "      <td>Woodbine Gardens,Parkview Hill</td>\n",
       "    </tr>\n",
       "    <tr>\n",
       "      <th>9</th>\n",
       "      <td>M5B</td>\n",
       "      <td>Downtown Toronto</td>\n",
       "      <td>Ryerson,Garden District</td>\n",
       "    </tr>\n",
       "    <tr>\n",
       "      <th>10</th>\n",
       "      <td>M6B</td>\n",
       "      <td>North York</td>\n",
       "      <td>Glencairn</td>\n",
       "    </tr>\n",
       "    <tr>\n",
       "      <th>11</th>\n",
       "      <td>M9B</td>\n",
       "      <td>Etobicoke</td>\n",
       "      <td>Cloverdale,Islington,Martin Grove,Princess Gar...</td>\n",
       "    </tr>\n",
       "    <tr>\n",
       "      <th>12</th>\n",
       "      <td>M1C</td>\n",
       "      <td>Scarborough</td>\n",
       "      <td>Highland Creek,Rouge Hill,Port Union</td>\n",
       "    </tr>\n",
       "    <tr>\n",
       "      <th>13</th>\n",
       "      <td>M3C</td>\n",
       "      <td>North York</td>\n",
       "      <td>Flemingdon Park,Don Mills South</td>\n",
       "    </tr>\n",
       "    <tr>\n",
       "      <th>14</th>\n",
       "      <td>M4C</td>\n",
       "      <td>East York</td>\n",
       "      <td>Woodbine Heights</td>\n",
       "    </tr>\n",
       "    <tr>\n",
       "      <th>15</th>\n",
       "      <td>M5C</td>\n",
       "      <td>Downtown Toronto</td>\n",
       "      <td>St. James Town</td>\n",
       "    </tr>\n",
       "    <tr>\n",
       "      <th>16</th>\n",
       "      <td>M6C</td>\n",
       "      <td>York</td>\n",
       "      <td>Humewood-Cedarvale</td>\n",
       "    </tr>\n",
       "    <tr>\n",
       "      <th>17</th>\n",
       "      <td>M9C</td>\n",
       "      <td>Etobicoke</td>\n",
       "      <td>Bloordale Gardens,Eringate,Markland Wood,Old B...</td>\n",
       "    </tr>\n",
       "    <tr>\n",
       "      <th>18</th>\n",
       "      <td>M1E</td>\n",
       "      <td>Scarborough</td>\n",
       "      <td>Guildwood,Morningside,West Hill</td>\n",
       "    </tr>\n",
       "    <tr>\n",
       "      <th>19</th>\n",
       "      <td>M4E</td>\n",
       "      <td>East Toronto</td>\n",
       "      <td>The Beaches</td>\n",
       "    </tr>\n",
       "    <tr>\n",
       "      <th>20</th>\n",
       "      <td>M5E</td>\n",
       "      <td>Downtown Toronto</td>\n",
       "      <td>Berczy Park</td>\n",
       "    </tr>\n",
       "    <tr>\n",
       "      <th>21</th>\n",
       "      <td>M6E</td>\n",
       "      <td>York</td>\n",
       "      <td>Caledonia-Fairbanks</td>\n",
       "    </tr>\n",
       "    <tr>\n",
       "      <th>22</th>\n",
       "      <td>M1G</td>\n",
       "      <td>Scarborough</td>\n",
       "      <td>Woburn</td>\n",
       "    </tr>\n",
       "    <tr>\n",
       "      <th>23</th>\n",
       "      <td>M4G</td>\n",
       "      <td>East York</td>\n",
       "      <td>Leaside</td>\n",
       "    </tr>\n",
       "    <tr>\n",
       "      <th>24</th>\n",
       "      <td>M5G</td>\n",
       "      <td>Downtown Toronto</td>\n",
       "      <td>Central Bay Street</td>\n",
       "    </tr>\n",
       "    <tr>\n",
       "      <th>25</th>\n",
       "      <td>M6G</td>\n",
       "      <td>Downtown Toronto</td>\n",
       "      <td>Christie</td>\n",
       "    </tr>\n",
       "    <tr>\n",
       "      <th>26</th>\n",
       "      <td>M1H</td>\n",
       "      <td>Scarborough</td>\n",
       "      <td>Cedarbrae</td>\n",
       "    </tr>\n",
       "    <tr>\n",
       "      <th>27</th>\n",
       "      <td>M2H</td>\n",
       "      <td>North York</td>\n",
       "      <td>Hillcrest Village</td>\n",
       "    </tr>\n",
       "    <tr>\n",
       "      <th>28</th>\n",
       "      <td>M3H</td>\n",
       "      <td>North York</td>\n",
       "      <td>Bathurst Manor,Downsview North,Wilson Heights</td>\n",
       "    </tr>\n",
       "    <tr>\n",
       "      <th>29</th>\n",
       "      <td>M4H</td>\n",
       "      <td>East York</td>\n",
       "      <td>Thorncliffe Park</td>\n",
       "    </tr>\n",
       "    <tr>\n",
       "      <th>...</th>\n",
       "      <td>...</td>\n",
       "      <td>...</td>\n",
       "      <td>...</td>\n",
       "    </tr>\n",
       "    <tr>\n",
       "      <th>73</th>\n",
       "      <td>M4R</td>\n",
       "      <td>Central Toronto</td>\n",
       "      <td>North Toronto West</td>\n",
       "    </tr>\n",
       "    <tr>\n",
       "      <th>74</th>\n",
       "      <td>M5R</td>\n",
       "      <td>Central Toronto</td>\n",
       "      <td>The Annex,North Midtown,Yorkville</td>\n",
       "    </tr>\n",
       "    <tr>\n",
       "      <th>75</th>\n",
       "      <td>M6R</td>\n",
       "      <td>West Toronto</td>\n",
       "      <td>Parkdale,Roncesvalles</td>\n",
       "    </tr>\n",
       "    <tr>\n",
       "      <th>76</th>\n",
       "      <td>M7R</td>\n",
       "      <td>Mississauga</td>\n",
       "      <td>Canada Post Gateway Processing Centre</td>\n",
       "    </tr>\n",
       "    <tr>\n",
       "      <th>77</th>\n",
       "      <td>M9R</td>\n",
       "      <td>Etobicoke</td>\n",
       "      <td>Kingsview Village,Martin Grove Gardens,Richvie...</td>\n",
       "    </tr>\n",
       "    <tr>\n",
       "      <th>78</th>\n",
       "      <td>M1S</td>\n",
       "      <td>Scarborough</td>\n",
       "      <td>Agincourt</td>\n",
       "    </tr>\n",
       "    <tr>\n",
       "      <th>79</th>\n",
       "      <td>M4S</td>\n",
       "      <td>Central Toronto</td>\n",
       "      <td>Davisville</td>\n",
       "    </tr>\n",
       "    <tr>\n",
       "      <th>80</th>\n",
       "      <td>M5S</td>\n",
       "      <td>Downtown Toronto</td>\n",
       "      <td>Harbord,University of Toronto</td>\n",
       "    </tr>\n",
       "    <tr>\n",
       "      <th>81</th>\n",
       "      <td>M6S</td>\n",
       "      <td>West Toronto</td>\n",
       "      <td>Runnymede,Swansea</td>\n",
       "    </tr>\n",
       "    <tr>\n",
       "      <th>82</th>\n",
       "      <td>M1T</td>\n",
       "      <td>Scarborough</td>\n",
       "      <td>Clarks Corners,Sullivan,Tam O'Shanter</td>\n",
       "    </tr>\n",
       "    <tr>\n",
       "      <th>83</th>\n",
       "      <td>M4T</td>\n",
       "      <td>Central Toronto</td>\n",
       "      <td>Moore Park,Summerhill East</td>\n",
       "    </tr>\n",
       "    <tr>\n",
       "      <th>84</th>\n",
       "      <td>M5T</td>\n",
       "      <td>Downtown Toronto</td>\n",
       "      <td>Chinatown,Grange Park,Kensington Market</td>\n",
       "    </tr>\n",
       "    <tr>\n",
       "      <th>85</th>\n",
       "      <td>M1V</td>\n",
       "      <td>Scarborough</td>\n",
       "      <td>Agincourt North,L'Amoreaux East,Milliken,Steel...</td>\n",
       "    </tr>\n",
       "    <tr>\n",
       "      <th>86</th>\n",
       "      <td>M4V</td>\n",
       "      <td>Central Toronto</td>\n",
       "      <td>Deer Park,Forest Hill SE,Rathnelly,South Hill,...</td>\n",
       "    </tr>\n",
       "    <tr>\n",
       "      <th>87</th>\n",
       "      <td>M5V</td>\n",
       "      <td>Downtown Toronto</td>\n",
       "      <td>CN Tower,Bathurst Quay,Island airport,Harbourf...</td>\n",
       "    </tr>\n",
       "    <tr>\n",
       "      <th>88</th>\n",
       "      <td>M8V</td>\n",
       "      <td>Etobicoke</td>\n",
       "      <td>Humber Bay Shores,Mimico South,New Toronto</td>\n",
       "    </tr>\n",
       "    <tr>\n",
       "      <th>89</th>\n",
       "      <td>M9V</td>\n",
       "      <td>Etobicoke</td>\n",
       "      <td>Albion Gardens,Beaumond Heights,Humbergate,Jam...</td>\n",
       "    </tr>\n",
       "    <tr>\n",
       "      <th>90</th>\n",
       "      <td>M1W</td>\n",
       "      <td>Scarborough</td>\n",
       "      <td>L'Amoreaux West</td>\n",
       "    </tr>\n",
       "    <tr>\n",
       "      <th>91</th>\n",
       "      <td>M4W</td>\n",
       "      <td>Downtown Toronto</td>\n",
       "      <td>Rosedale</td>\n",
       "    </tr>\n",
       "    <tr>\n",
       "      <th>92</th>\n",
       "      <td>M5W</td>\n",
       "      <td>Downtown Toronto</td>\n",
       "      <td>Stn A PO Boxes 25 The Esplanade</td>\n",
       "    </tr>\n",
       "    <tr>\n",
       "      <th>93</th>\n",
       "      <td>M8W</td>\n",
       "      <td>Etobicoke</td>\n",
       "      <td>Alderwood,Long Branch</td>\n",
       "    </tr>\n",
       "    <tr>\n",
       "      <th>94</th>\n",
       "      <td>M9W</td>\n",
       "      <td>Etobicoke</td>\n",
       "      <td>Northwest</td>\n",
       "    </tr>\n",
       "    <tr>\n",
       "      <th>95</th>\n",
       "      <td>M1X</td>\n",
       "      <td>Scarborough</td>\n",
       "      <td>Upper Rouge</td>\n",
       "    </tr>\n",
       "    <tr>\n",
       "      <th>96</th>\n",
       "      <td>M4X</td>\n",
       "      <td>Downtown Toronto</td>\n",
       "      <td>Cabbagetown,St. James Town</td>\n",
       "    </tr>\n",
       "    <tr>\n",
       "      <th>97</th>\n",
       "      <td>M5X</td>\n",
       "      <td>Downtown Toronto</td>\n",
       "      <td>First Canadian Place,Underground city</td>\n",
       "    </tr>\n",
       "    <tr>\n",
       "      <th>98</th>\n",
       "      <td>M8X</td>\n",
       "      <td>Etobicoke</td>\n",
       "      <td>The Kingsway,Montgomery Road,Old Mill North</td>\n",
       "    </tr>\n",
       "    <tr>\n",
       "      <th>99</th>\n",
       "      <td>M4Y</td>\n",
       "      <td>Downtown Toronto</td>\n",
       "      <td>Church and Wellesley</td>\n",
       "    </tr>\n",
       "    <tr>\n",
       "      <th>100</th>\n",
       "      <td>M7Y</td>\n",
       "      <td>East Toronto</td>\n",
       "      <td>Business Reply Mail Processing Centre 969 Eastern</td>\n",
       "    </tr>\n",
       "    <tr>\n",
       "      <th>101</th>\n",
       "      <td>M8Y</td>\n",
       "      <td>Etobicoke</td>\n",
       "      <td>Humber Bay,King's Mill Park,Kingsway Park Sout...</td>\n",
       "    </tr>\n",
       "    <tr>\n",
       "      <th>102</th>\n",
       "      <td>M8Z</td>\n",
       "      <td>Etobicoke</td>\n",
       "      <td>Kingsway Park South West,Mimico NW,The Queensw...</td>\n",
       "    </tr>\n",
       "  </tbody>\n",
       "</table>\n",
       "<p>103 rows × 3 columns</p>\n",
       "</div>"
      ],
      "text/plain": [
       "    Postcode           Borough  \\\n",
       "0        M3A        North York   \n",
       "1        M4A        North York   \n",
       "2        M5A  Downtown Toronto   \n",
       "3        M6A        North York   \n",
       "4        M7A      Queen's Park   \n",
       "5        M9A         Etobicoke   \n",
       "6        M1B       Scarborough   \n",
       "7        M3B        North York   \n",
       "8        M4B         East York   \n",
       "9        M5B  Downtown Toronto   \n",
       "10       M6B        North York   \n",
       "11       M9B         Etobicoke   \n",
       "12       M1C       Scarborough   \n",
       "13       M3C        North York   \n",
       "14       M4C         East York   \n",
       "15       M5C  Downtown Toronto   \n",
       "16       M6C              York   \n",
       "17       M9C         Etobicoke   \n",
       "18       M1E       Scarborough   \n",
       "19       M4E      East Toronto   \n",
       "20       M5E  Downtown Toronto   \n",
       "21       M6E              York   \n",
       "22       M1G       Scarborough   \n",
       "23       M4G         East York   \n",
       "24       M5G  Downtown Toronto   \n",
       "25       M6G  Downtown Toronto   \n",
       "26       M1H       Scarborough   \n",
       "27       M2H        North York   \n",
       "28       M3H        North York   \n",
       "29       M4H         East York   \n",
       "..       ...               ...   \n",
       "73       M4R   Central Toronto   \n",
       "74       M5R   Central Toronto   \n",
       "75       M6R      West Toronto   \n",
       "76       M7R       Mississauga   \n",
       "77       M9R         Etobicoke   \n",
       "78       M1S       Scarborough   \n",
       "79       M4S   Central Toronto   \n",
       "80       M5S  Downtown Toronto   \n",
       "81       M6S      West Toronto   \n",
       "82       M1T       Scarborough   \n",
       "83       M4T   Central Toronto   \n",
       "84       M5T  Downtown Toronto   \n",
       "85       M1V       Scarborough   \n",
       "86       M4V   Central Toronto   \n",
       "87       M5V  Downtown Toronto   \n",
       "88       M8V         Etobicoke   \n",
       "89       M9V         Etobicoke   \n",
       "90       M1W       Scarborough   \n",
       "91       M4W  Downtown Toronto   \n",
       "92       M5W  Downtown Toronto   \n",
       "93       M8W         Etobicoke   \n",
       "94       M9W         Etobicoke   \n",
       "95       M1X       Scarborough   \n",
       "96       M4X  Downtown Toronto   \n",
       "97       M5X  Downtown Toronto   \n",
       "98       M8X         Etobicoke   \n",
       "99       M4Y  Downtown Toronto   \n",
       "100      M7Y      East Toronto   \n",
       "101      M8Y         Etobicoke   \n",
       "102      M8Z         Etobicoke   \n",
       "\n",
       "                                         Neighbourhood  \n",
       "0                                            Parkwoods  \n",
       "1                                     Victoria Village  \n",
       "2                             Harbourfront,Regent Park  \n",
       "3                      Lawrence Heights,Lawrence Manor  \n",
       "4                                         Queen's Park  \n",
       "5                                     Islington Avenue  \n",
       "6                                        Rouge,Malvern  \n",
       "7                                      Don Mills North  \n",
       "8                       Woodbine Gardens,Parkview Hill  \n",
       "9                              Ryerson,Garden District  \n",
       "10                                           Glencairn  \n",
       "11   Cloverdale,Islington,Martin Grove,Princess Gar...  \n",
       "12                Highland Creek,Rouge Hill,Port Union  \n",
       "13                     Flemingdon Park,Don Mills South  \n",
       "14                                    Woodbine Heights  \n",
       "15                                      St. James Town  \n",
       "16                                  Humewood-Cedarvale  \n",
       "17   Bloordale Gardens,Eringate,Markland Wood,Old B...  \n",
       "18                     Guildwood,Morningside,West Hill  \n",
       "19                                         The Beaches  \n",
       "20                                         Berczy Park  \n",
       "21                                 Caledonia-Fairbanks  \n",
       "22                                              Woburn  \n",
       "23                                             Leaside  \n",
       "24                                  Central Bay Street  \n",
       "25                                            Christie  \n",
       "26                                           Cedarbrae  \n",
       "27                                   Hillcrest Village  \n",
       "28       Bathurst Manor,Downsview North,Wilson Heights  \n",
       "29                                    Thorncliffe Park  \n",
       "..                                                 ...  \n",
       "73                                  North Toronto West  \n",
       "74                   The Annex,North Midtown,Yorkville  \n",
       "75                               Parkdale,Roncesvalles  \n",
       "76               Canada Post Gateway Processing Centre  \n",
       "77   Kingsview Village,Martin Grove Gardens,Richvie...  \n",
       "78                                           Agincourt  \n",
       "79                                          Davisville  \n",
       "80                       Harbord,University of Toronto  \n",
       "81                                   Runnymede,Swansea  \n",
       "82               Clarks Corners,Sullivan,Tam O'Shanter  \n",
       "83                          Moore Park,Summerhill East  \n",
       "84             Chinatown,Grange Park,Kensington Market  \n",
       "85   Agincourt North,L'Amoreaux East,Milliken,Steel...  \n",
       "86   Deer Park,Forest Hill SE,Rathnelly,South Hill,...  \n",
       "87   CN Tower,Bathurst Quay,Island airport,Harbourf...  \n",
       "88          Humber Bay Shores,Mimico South,New Toronto  \n",
       "89   Albion Gardens,Beaumond Heights,Humbergate,Jam...  \n",
       "90                                     L'Amoreaux West  \n",
       "91                                            Rosedale  \n",
       "92                     Stn A PO Boxes 25 The Esplanade  \n",
       "93                               Alderwood,Long Branch  \n",
       "94                                           Northwest  \n",
       "95                                         Upper Rouge  \n",
       "96                          Cabbagetown,St. James Town  \n",
       "97               First Canadian Place,Underground city  \n",
       "98         The Kingsway,Montgomery Road,Old Mill North  \n",
       "99                                Church and Wellesley  \n",
       "100  Business Reply Mail Processing Centre 969 Eastern  \n",
       "101  Humber Bay,King's Mill Park,Kingsway Park Sout...  \n",
       "102  Kingsway Park South West,Mimico NW,The Queensw...  \n",
       "\n",
       "[103 rows x 3 columns]"
      ]
     },
     "execution_count": 80,
     "metadata": {},
     "output_type": "execute_result"
    }
   ],
   "source": [
    "# List of Postcodes, Boroughs, & Neighbourhoods in TORONTO FOR 103 POSTCODES\n",
    "Toronto_df"
   ]
  },
  {
   "cell_type": "code",
   "execution_count": 82,
   "metadata": {},
   "outputs": [
    {
     "data": {
      "text/plain": [
       "(103, 3)"
      ]
     },
     "execution_count": 82,
     "metadata": {},
     "output_type": "execute_result"
    }
   ],
   "source": [
    "Toronto_df.shape"
   ]
  },
  {
   "cell_type": "code",
   "execution_count": null,
   "metadata": {},
   "outputs": [],
   "source": []
  }
 ],
 "metadata": {
  "kernelspec": {
   "display_name": "Python 3",
   "language": "python",
   "name": "python3"
  },
  "language_info": {
   "codemirror_mode": {
    "name": "ipython",
    "version": 3
   },
   "file_extension": ".py",
   "mimetype": "text/x-python",
   "name": "python",
   "nbconvert_exporter": "python",
   "pygments_lexer": "ipython3",
   "version": "3.6.7"
  }
 },
 "nbformat": 4,
 "nbformat_minor": 4
}
